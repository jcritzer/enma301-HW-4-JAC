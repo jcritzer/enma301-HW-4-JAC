{
 "cells": [
  {
   "cell_type": "markdown",
   "id": "2bedb547-dc29-43f9-9557-d6ca44b1c313",
   "metadata": {},
   "source": [
    "# ENMA 301 HW 4"
   ]
  },
  {
   "cell_type": "markdown",
   "id": "c0156b31-e255-490d-a3f5-3f758cbdf5c1",
   "metadata": {},
   "source": [
    "##### Jefferson Anthony Critzer 3/27/2025"
   ]
  },
  {
   "cell_type": "code",
   "execution_count": 7,
   "id": "dc079546-d645-409d-849d-cfacc772d7d7",
   "metadata": {},
   "outputs": [],
   "source": [
    "import numpy as np"
   ]
  },
  {
   "cell_type": "code",
   "execution_count": 41,
   "id": "e294730e-3fd0-4319-bbcd-307fcd0913f7",
   "metadata": {},
   "outputs": [],
   "source": [
    "#Define Variables\n",
    "nAir = 1.0       # Indices of Refraction\n",
    "nPmma = 1.489\n",
    "nWater = 1.333\n",
    "nNewP = 1.460\n",
    "\n",
    "bPmma = 0.132    # Absorption Coefficients\n",
    "bWater = 0.097\n",
    "bNewP = 0.132\n",
    "\n",
    "tPmma = 0.02     # Thicknesses\n",
    "tWater = 0.03\n",
    "tNewP = 0.025\n",
    "\n",
    "I0 = 10.0        # Initial Irradiance"
   ]
  },
  {
   "cell_type": "code",
   "execution_count": 42,
   "id": "e42f75bd-0f5c-4b3c-8458-e6574e6e6a60",
   "metadata": {},
   "outputs": [],
   "source": [
    "# Define the equations as functions\n",
    "def reflectivity(n1,n2):\n",
    "    return 1 - ((n1-n2)/(n1+n2))**2 # Reflectivity Equation but for \"1-R\" instead of just R since we can use it to multiply\n",
    "\n",
    "def absorption(b, t):\n",
    "    return np.exp(-b*t) # Absorption equation, keeping out the I0 to use it like the reflectivity equation"
   ]
  },
  {
   "cell_type": "code",
   "execution_count": 43,
   "id": "55ff93e0-0de2-4834-8cc7-de6d197f0655",
   "metadata": {},
   "outputs": [
    {
     "name": "stdout",
     "output_type": "stream",
     "text": [
      "9.194745993315347\n"
     ]
    }
   ],
   "source": [
    "# Go through the 5 reflectivity steps:\n",
    "# This is the initial light after the losses from reflections\n",
    "I0 = I0 * reflectivity(nAir, nPmma) * reflectivity(nPmma, nWater) * reflectivity(nWater, nNewP) * reflectivity(nNewP, nPmma) * reflectivity(nPmma, nAir)\n",
    "print(I0)"
   ]
  },
  {
   "cell_type": "code",
   "execution_count": 44,
   "id": "7d7000db-aab6-4655-a89d-5bea69102292",
   "metadata": {},
   "outputs": [
    {
     "name": "stdout",
     "output_type": "stream",
     "text": [
      "9.089702989555203\n"
     ]
    }
   ],
   "source": [
    "# Go through the 4 absorption steps\n",
    "# This is the initial light after the losses from reflections and absorption\n",
    "Iout = I0 * absorption(bPmma, tPmma) * absorption(bWater, tWater) * absorption(bNewP, tNewP) * absorption(bPmma, tPmma)\n",
    "print (Iout)"
   ]
  },
  {
   "cell_type": "code",
   "execution_count": null,
   "id": "6d311a90-941c-4181-955e-927fc5b596ae",
   "metadata": {},
   "outputs": [],
   "source": []
  }
 ],
 "metadata": {
  "kernelspec": {
   "display_name": "Python 3 (ipykernel)",
   "language": "python",
   "name": "python3"
  },
  "language_info": {
   "codemirror_mode": {
    "name": "ipython",
    "version": 3
   },
   "file_extension": ".py",
   "mimetype": "text/x-python",
   "name": "python",
   "nbconvert_exporter": "python",
   "pygments_lexer": "ipython3",
   "version": "3.11.5"
  }
 },
 "nbformat": 4,
 "nbformat_minor": 5
}
